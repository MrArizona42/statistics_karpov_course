{
 "cells": [
  {
   "cell_type": "code",
   "execution_count": 1,
   "id": "70a12dc2-9abb-400b-96b3-a48ddddf8626",
   "metadata": {},
   "outputs": [],
   "source": [
    "import pandas as pd\n",
    "import numpy as np\n",
    "import scipy.stats as ss\n",
    "import math"
   ]
  },
  {
   "cell_type": "markdown",
   "id": "7ee9a200-95ff-4fee-a663-7229649b517e",
   "metadata": {},
   "source": [
    "## Intro"
   ]
  },
  {
   "cell_type": "markdown",
   "id": "9fe203e3-98d6-4a8b-80f8-4615920fbc0d",
   "metadata": {},
   "source": [
    "Task 1.  \n",
    "H0: Distribution is statistically the same as the given one.  \n",
    "H1: Distribution is statistically significantly different from the given one.  \n",
    "\n",
    "Task 2.  \n",
    "When X - categorical, y - categorical  \n",
    "H0: There is NO significant difference between 'y' from different X groups  \n",
    "H1: There is a significant difference between 'y' from different X groups  \n",
    "In other words:  \n",
    "H0: There is NO significant difference in quantities of categories in two or more gorups  \n",
    "H1: There is a significant difference in quantities of categories in two or more gorups\n",
    "\n",
    "Task 3.  \n",
    "When X is a mixed variable, y - categirical  \n",
    "H0: X does NOT influence 'y' ($\\beta_i = 0$)  \n",
    "H1: X has stasistically significant influence on 'y' ($\\beta_i \\neq 0$)  \n",
    "\n",
    "Topics:  \n",
    "Pearson's (chi-squared) distance  \n",
    "Chi-squared distribution  \n",
    "Pearson's chi-square criterion  \n",
    "\n",
    "Pearson's (chi-squared) distance\n",
    "\n",
    "$\\chi^2 = \\sum_{i=1}^{n}Z_i = \\sum_{i=1}^{n}\\frac{(O_i - E_i)^2}{E_i}$\n",
    "\n",
    "where $Z_i, ..., Z_n$ are independend standard normal random variables\n",
    "\n",
    "$O_i$ - Observed values  \n",
    "$E_i$ - Expected values\n",
    "\n",
    "**Yates correction**\n",
    "\n",
    "$\\chi_{Yates}^2 = \\sum_{i=1}^{n}\\frac{(|O_i - E_i| - 0.5)^2}{E_i}$\n",
    "\n",
    "**Degrees of freedom**\n",
    "\n",
    "$df = n - 1$ for one categorical variable  \n",
    "$df = (n-1)*(m-1)$ for contingency table n by m  "
   ]
  },
  {
   "cell_type": "markdown",
   "id": "7dfca01e-d256-48a4-ac75-0151a5101fa5",
   "metadata": {},
   "source": [
    "## Example 1. One variable, given distribution"
   ]
  },
  {
   "cell_type": "markdown",
   "id": "b6ae08d4-42fe-4473-b4ae-9a948255d6de",
   "metadata": {},
   "source": [
    "### Coin"
   ]
  },
  {
   "cell_type": "markdown",
   "id": "da1a532b-606e-471a-9fff-e2e339527f11",
   "metadata": {},
   "source": [
    "Expected data will be formed from Binomial distribution, where\n",
    "\n",
    "$\\mu = n * p$\n",
    "\n",
    "n - number of Bernoulli experiments  \n",
    "p - probability of success  "
   ]
  },
  {
   "cell_type": "code",
   "execution_count": 2,
   "id": "e85ef6bf-5039-4aad-948f-3bb234d4dd89",
   "metadata": {},
   "outputs": [
    {
     "data": {
      "text/html": [
       "<div>\n",
       "<style scoped>\n",
       "    .dataframe tbody tr th:only-of-type {\n",
       "        vertical-align: middle;\n",
       "    }\n",
       "\n",
       "    .dataframe tbody tr th {\n",
       "        vertical-align: top;\n",
       "    }\n",
       "\n",
       "    .dataframe thead th {\n",
       "        text-align: right;\n",
       "    }\n",
       "</style>\n",
       "<table border=\"1\" class=\"dataframe\">\n",
       "  <thead>\n",
       "    <tr style=\"text-align: right;\">\n",
       "      <th></th>\n",
       "      <th>observed</th>\n",
       "      <th>expected</th>\n",
       "    </tr>\n",
       "  </thead>\n",
       "  <tbody>\n",
       "    <tr>\n",
       "      <th>head</th>\n",
       "      <td>20</td>\n",
       "      <td>30.0</td>\n",
       "    </tr>\n",
       "    <tr>\n",
       "      <th>tail</th>\n",
       "      <td>40</td>\n",
       "      <td>30.0</td>\n",
       "    </tr>\n",
       "  </tbody>\n",
       "</table>\n",
       "</div>"
      ],
      "text/plain": [
       "      observed  expected\n",
       "head        20      30.0\n",
       "tail        40      30.0"
      ]
     },
     "metadata": {},
     "output_type": "display_data"
    },
    {
     "name": "stdout",
     "output_type": "stream",
     "text": [
      "chi-statistic = 6.666666666666667\n",
      "pvalue = 0.009823274507519186\n"
     ]
    }
   ],
   "source": [
    "n = 60\n",
    "n_heads = 40\n",
    "n_tails = 20\n",
    "BINOMIAL = ss.binom(n, 0.5)\n",
    "mean = BINOMIAL.mean()\n",
    "d_of_f = 1\n",
    "\n",
    "data = pd.DataFrame(\n",
    "    data={'observed':[n_tails, n_heads],\n",
    "        'expected':[mean, mean]},\n",
    "    index=['head','tail']\n",
    ")\n",
    "display(data)\n",
    "\n",
    "def chi_test(arr_observed, arr_expected, d_of_f):\n",
    "    chi_stat = sum((arr_observed - arr_expected)**2 / arr_expected)\n",
    "    CHI2 = ss.chi2(df=d_of_f)\n",
    "    pvalue = 1 - CHI2.cdf(chi_stat)\n",
    "    return chi_stat, pvalue\n",
    "\n",
    "chi_stat, pvalue = chi_test(data['observed'], data['expected'], d_of_f)\n",
    "print(f'chi-statistic = {chi_stat}')\n",
    "print(f'pvalue = {pvalue}')"
   ]
  },
  {
   "cell_type": "code",
   "execution_count": 3,
   "id": "3aeda024-c82c-4e24-829e-696ffdaad569",
   "metadata": {},
   "outputs": [
    {
     "name": "stdout",
     "output_type": "stream",
     "text": [
      "chi-statistic = 6.666666666666667\n",
      "pvalue = 0.009823274507519235\n"
     ]
    }
   ],
   "source": [
    "# same result with SciPy test:\n",
    "chi_stat, pvalue = ss.chisquare(data['observed'], data['expected'])\n",
    "print(f'chi-statistic = {chi_stat}')\n",
    "print(f'pvalue = {pvalue}')"
   ]
  },
  {
   "cell_type": "code",
   "execution_count": null,
   "id": "2ff03228-f63e-452a-a3fd-b3ee4d1ff846",
   "metadata": {},
   "outputs": [],
   "source": []
  },
  {
   "cell_type": "code",
   "execution_count": null,
   "id": "a56166e8-b7f2-44cc-9387-e0c1e0978a8a",
   "metadata": {},
   "outputs": [],
   "source": []
  },
  {
   "cell_type": "markdown",
   "id": "ad6d7e65-fef5-4b67-92a3-dae8c84a83d6",
   "metadata": {},
   "source": [
    "In this case, instead of testing H0, we can just ask the question: 'What is the probability of getting 20 or less tails in 60 coin flips?'\n",
    "\n",
    "$p(x = 20) = C_n^k * p^k * (1 - p)^{(n - k)}$  \n",
    "$p(x \\le 20) = p(x = 20) + p(x = 19) + ... + p(x = 1) + p(x = 0)$"
   ]
  },
  {
   "cell_type": "code",
   "execution_count": 4,
   "id": "9db4d9d7-c11d-4051-81bd-9b4212e34667",
   "metadata": {},
   "outputs": [
    {
     "data": {
      "text/plain": [
       "0.00674464686559593"
      ]
     },
     "execution_count": 4,
     "metadata": {},
     "output_type": "execute_result"
    }
   ],
   "source": [
    "1 - BINOMIAL.cdf(39)\n",
    "# or\n",
    "BINOMIAL.cdf(20)"
   ]
  },
  {
   "cell_type": "markdown",
   "id": "20228bd4-9195-4b89-9e9d-c513442dc198",
   "metadata": {},
   "source": [
    "### Dice"
   ]
  },
  {
   "cell_type": "code",
   "execution_count": 5,
   "id": "a0d197c9-7f1f-4dd7-b609-36b3488bacc3",
   "metadata": {},
   "outputs": [
    {
     "name": "stdout",
     "output_type": "stream",
     "text": [
      "mean 10.0\n"
     ]
    },
    {
     "data": {
      "text/html": [
       "<div>\n",
       "<style scoped>\n",
       "    .dataframe tbody tr th:only-of-type {\n",
       "        vertical-align: middle;\n",
       "    }\n",
       "\n",
       "    .dataframe tbody tr th {\n",
       "        vertical-align: top;\n",
       "    }\n",
       "\n",
       "    .dataframe thead th {\n",
       "        text-align: right;\n",
       "    }\n",
       "</style>\n",
       "<table border=\"1\" class=\"dataframe\">\n",
       "  <thead>\n",
       "    <tr style=\"text-align: right;\">\n",
       "      <th></th>\n",
       "      <th>observed</th>\n",
       "      <th>expected</th>\n",
       "    </tr>\n",
       "  </thead>\n",
       "  <tbody>\n",
       "    <tr>\n",
       "      <th>1</th>\n",
       "      <td>10</td>\n",
       "      <td>10.0</td>\n",
       "    </tr>\n",
       "    <tr>\n",
       "      <th>2</th>\n",
       "      <td>10</td>\n",
       "      <td>10.0</td>\n",
       "    </tr>\n",
       "    <tr>\n",
       "      <th>3</th>\n",
       "      <td>10</td>\n",
       "      <td>10.0</td>\n",
       "    </tr>\n",
       "    <tr>\n",
       "      <th>4</th>\n",
       "      <td>10</td>\n",
       "      <td>10.0</td>\n",
       "    </tr>\n",
       "    <tr>\n",
       "      <th>5</th>\n",
       "      <td>5</td>\n",
       "      <td>10.0</td>\n",
       "    </tr>\n",
       "    <tr>\n",
       "      <th>6</th>\n",
       "      <td>15</td>\n",
       "      <td>10.0</td>\n",
       "    </tr>\n",
       "  </tbody>\n",
       "</table>\n",
       "</div>"
      ],
      "text/plain": [
       "   observed  expected\n",
       "1        10      10.0\n",
       "2        10      10.0\n",
       "3        10      10.0\n",
       "4        10      10.0\n",
       "5         5      10.0\n",
       "6        15      10.0"
      ]
     },
     "metadata": {},
     "output_type": "display_data"
    },
    {
     "name": "stdout",
     "output_type": "stream",
     "text": [
      "chi-statistic = 5.0\n",
      "pvalue = 0.415880186995508\n"
     ]
    }
   ],
   "source": [
    "a = 1\n",
    "b = 6\n",
    "n = 60 # n of experiments\n",
    "d_of_f = 5\n",
    "\n",
    "D_UNIFORM = ss.randint(a, b + 1) # one experiment\n",
    "mean = D_UNIFORM.pmf(3) * n\n",
    "print(f'mean {mean}')\n",
    "\n",
    "data = pd.DataFrame(\n",
    "    data={'observed':[10,10,10,10,5,15],\n",
    "        'expected':[mean] * 6},\n",
    "    index=['1','2','3','4','5','6']\n",
    ")\n",
    "display(data)\n",
    "\n",
    "chi_stat, pvalue = chi_test(data['observed'], data['expected'], d_of_f)\n",
    "print(f'chi-statistic = {chi_stat}')\n",
    "print(f'pvalue = {pvalue}')"
   ]
  },
  {
   "cell_type": "code",
   "execution_count": 6,
   "id": "bf3a1ed2-18d2-4d10-9cb2-d99da43c8b57",
   "metadata": {},
   "outputs": [
    {
     "name": "stdout",
     "output_type": "stream",
     "text": [
      "chi-statistic = 5.0\n",
      "pvalue = 0.4158801869955079\n"
     ]
    }
   ],
   "source": [
    "# same result with SciPy test:\n",
    "chi_stat, pvalue = ss.chisquare(data['observed'], data['expected'])\n",
    "print(f'chi-statistic = {chi_stat}')\n",
    "print(f'pvalue = {pvalue}')"
   ]
  },
  {
   "cell_type": "code",
   "execution_count": null,
   "id": "33ebb17c-a077-43aa-9703-2db9d99545dc",
   "metadata": {},
   "outputs": [],
   "source": []
  },
  {
   "cell_type": "code",
   "execution_count": null,
   "id": "ca79dafd-b890-47cd-9e8b-6cc2b6ee0899",
   "metadata": {},
   "outputs": [],
   "source": []
  },
  {
   "cell_type": "markdown",
   "id": "733602a9-b01c-49c1-b920-b3cd63442ab5",
   "metadata": {},
   "source": [
    "## Example 2. Contingency tables, two or more categorical variables"
   ]
  },
  {
   "cell_type": "markdown",
   "id": "e19be30c-9741-4a17-942e-ab2e95293494",
   "metadata": {},
   "source": [
    "### Sex VS Profession"
   ]
  },
  {
   "cell_type": "markdown",
   "id": "91623f2a-0f29-4d3d-972f-8d1f353fe35c",
   "metadata": {},
   "source": [
    "Restraint for Chi-test: n for each expected cell should be bigger that 5\n",
    "\n",
    "$expected[i] \\ge 5$"
   ]
  },
  {
   "cell_type": "code",
   "execution_count": 7,
   "id": "b7b2ba48-268c-44ea-a923-3abd8c0fd34c",
   "metadata": {},
   "outputs": [
    {
     "data": {
      "text/html": [
       "<div>\n",
       "<style scoped>\n",
       "    .dataframe tbody tr th:only-of-type {\n",
       "        vertical-align: middle;\n",
       "    }\n",
       "\n",
       "    .dataframe tbody tr th {\n",
       "        vertical-align: top;\n",
       "    }\n",
       "\n",
       "    .dataframe thead th {\n",
       "        text-align: right;\n",
       "    }\n",
       "</style>\n",
       "<table border=\"1\" class=\"dataframe\">\n",
       "  <thead>\n",
       "    <tr style=\"text-align: right;\">\n",
       "      <th></th>\n",
       "      <th>sex</th>\n",
       "      <th>education</th>\n",
       "    </tr>\n",
       "  </thead>\n",
       "  <tbody>\n",
       "    <tr>\n",
       "      <th>0</th>\n",
       "      <td>male</td>\n",
       "      <td>biology</td>\n",
       "    </tr>\n",
       "    <tr>\n",
       "      <th>1</th>\n",
       "      <td>female</td>\n",
       "      <td>biology</td>\n",
       "    </tr>\n",
       "    <tr>\n",
       "      <th>2</th>\n",
       "      <td>male</td>\n",
       "      <td>biology</td>\n",
       "    </tr>\n",
       "    <tr>\n",
       "      <th>3</th>\n",
       "      <td>male</td>\n",
       "      <td>math</td>\n",
       "    </tr>\n",
       "    <tr>\n",
       "      <th>4</th>\n",
       "      <td>female</td>\n",
       "      <td>math</td>\n",
       "    </tr>\n",
       "  </tbody>\n",
       "</table>\n",
       "</div>"
      ],
      "text/plain": [
       "      sex education\n",
       "0    male   biology\n",
       "1  female   biology\n",
       "2    male   biology\n",
       "3    male      math\n",
       "4  female      math"
      ]
     },
     "execution_count": 7,
     "metadata": {},
     "output_type": "execute_result"
    }
   ],
   "source": [
    "np.random.seed(48)\n",
    "BERNOULLI = ss.bernoulli(0.5)\n",
    "n = 41\n",
    "d_of_f = 1\n",
    "\n",
    "# contingency table looks like:\n",
    "df = pd.DataFrame({\n",
    "    'sex':BERNOULLI.rvs(n),\n",
    "    'education':BERNOULLI.rvs(n),\n",
    "    'dummy':[1] * n\n",
    "})\n",
    "df['sex'] = np.where(df['sex']==0, 'male', 'female')\n",
    "df['education'] = np.where(df['education']==0, 'math', 'biology')\n",
    "df.drop('dummy', axis=1).head()"
   ]
  },
  {
   "cell_type": "code",
   "execution_count": 8,
   "id": "aa096600-05a7-4a22-bcb6-185a47fb2759",
   "metadata": {},
   "outputs": [
    {
     "data": {
      "text/html": [
       "<div>\n",
       "<style scoped>\n",
       "    .dataframe tbody tr th:only-of-type {\n",
       "        vertical-align: middle;\n",
       "    }\n",
       "\n",
       "    .dataframe tbody tr th {\n",
       "        vertical-align: top;\n",
       "    }\n",
       "\n",
       "    .dataframe thead th {\n",
       "        text-align: right;\n",
       "    }\n",
       "</style>\n",
       "<table border=\"1\" class=\"dataframe\">\n",
       "  <thead>\n",
       "    <tr style=\"text-align: right;\">\n",
       "      <th>sex</th>\n",
       "      <th>female</th>\n",
       "      <th>male</th>\n",
       "      <th>total</th>\n",
       "    </tr>\n",
       "    <tr>\n",
       "      <th>education</th>\n",
       "      <th></th>\n",
       "      <th></th>\n",
       "      <th></th>\n",
       "    </tr>\n",
       "  </thead>\n",
       "  <tbody>\n",
       "    <tr>\n",
       "      <th>biology</th>\n",
       "      <td>9.0</td>\n",
       "      <td>12.0</td>\n",
       "      <td>21.0</td>\n",
       "    </tr>\n",
       "    <tr>\n",
       "      <th>math</th>\n",
       "      <td>6.0</td>\n",
       "      <td>14.0</td>\n",
       "      <td>20.0</td>\n",
       "    </tr>\n",
       "    <tr>\n",
       "      <th>total</th>\n",
       "      <td>15.0</td>\n",
       "      <td>26.0</td>\n",
       "      <td>41.0</td>\n",
       "    </tr>\n",
       "  </tbody>\n",
       "</table>\n",
       "</div>"
      ],
      "text/plain": [
       "sex        female  male  total\n",
       "education                     \n",
       "biology       9.0  12.0   21.0\n",
       "math          6.0  14.0   20.0\n",
       "total        15.0  26.0   41.0"
      ]
     },
     "execution_count": 8,
     "metadata": {},
     "output_type": "execute_result"
    }
   ],
   "source": [
    "data = pd.pivot_table(data=df, columns='sex',\n",
    "                      index='education', values='dummy', aggfunc='count')\n",
    "data.loc[:,'total'] = data.sum(axis=1)\n",
    "data.loc['total',:] = data.sum()\n",
    "data"
   ]
  },
  {
   "cell_type": "code",
   "execution_count": 9,
   "id": "49a50ce4-f355-49c1-a56e-e4e2e493d846",
   "metadata": {},
   "outputs": [
    {
     "data": {
      "text/html": [
       "<div>\n",
       "<style scoped>\n",
       "    .dataframe tbody tr th:only-of-type {\n",
       "        vertical-align: middle;\n",
       "    }\n",
       "\n",
       "    .dataframe tbody tr th {\n",
       "        vertical-align: top;\n",
       "    }\n",
       "\n",
       "    .dataframe thead th {\n",
       "        text-align: right;\n",
       "    }\n",
       "</style>\n",
       "<table border=\"1\" class=\"dataframe\">\n",
       "  <thead>\n",
       "    <tr style=\"text-align: right;\">\n",
       "      <th>sex</th>\n",
       "      <th>female</th>\n",
       "      <th>male</th>\n",
       "      <th>total</th>\n",
       "    </tr>\n",
       "    <tr>\n",
       "      <th>education</th>\n",
       "      <th></th>\n",
       "      <th></th>\n",
       "      <th></th>\n",
       "    </tr>\n",
       "  </thead>\n",
       "  <tbody>\n",
       "    <tr>\n",
       "      <th>biology</th>\n",
       "      <td>7.682927</td>\n",
       "      <td>13.317073</td>\n",
       "      <td>21.0</td>\n",
       "    </tr>\n",
       "    <tr>\n",
       "      <th>math</th>\n",
       "      <td>7.317073</td>\n",
       "      <td>12.682927</td>\n",
       "      <td>20.0</td>\n",
       "    </tr>\n",
       "    <tr>\n",
       "      <th>total</th>\n",
       "      <td>15.000000</td>\n",
       "      <td>26.000000</td>\n",
       "      <td>41.0</td>\n",
       "    </tr>\n",
       "  </tbody>\n",
       "</table>\n",
       "</div>"
      ],
      "text/plain": [
       "sex           female       male  total\n",
       "education                             \n",
       "biology     7.682927  13.317073   21.0\n",
       "math        7.317073  12.682927   20.0\n",
       "total      15.000000  26.000000   41.0"
      ]
     },
     "execution_count": 9,
     "metadata": {},
     "output_type": "execute_result"
    }
   ],
   "source": [
    "expected = data.copy()\n",
    "for col in data.columns.drop('total'):\n",
    "    for row in data.index.drop('total'):\n",
    "        total1 = data.loc['total', col]\n",
    "        total2 = data.loc[row, 'total']\n",
    "        expected.loc[row, col] = total1 * total2 / data.loc['total', 'total']\n",
    "\n",
    "expected"
   ]
  },
  {
   "cell_type": "code",
   "execution_count": 10,
   "id": "e3ace7b7-f912-4efd-b955-2923884fa6f6",
   "metadata": {},
   "outputs": [
    {
     "name": "stdout",
     "output_type": "stream",
     "text": [
      "Flatten data:\n",
      "[ 9. 12.  6. 14.]\n",
      "Flatten expected:\n",
      "[ 7.68292683 13.31707317  7.31707317 12.68292683]\n"
     ]
    }
   ],
   "source": [
    "data_flat = data.values[:-1, :-1].flatten()\n",
    "print('Flatten data:')\n",
    "print(data_flat)\n",
    "\n",
    "expected_flat = expected.values[:-1, :-1].flatten()\n",
    "print('Flatten expected:')\n",
    "print(expected_flat)"
   ]
  },
  {
   "cell_type": "code",
   "execution_count": 11,
   "id": "13ddddec-b792-47c6-aff5-f21480130414",
   "metadata": {},
   "outputs": [
    {
     "name": "stdout",
     "output_type": "stream",
     "text": [
      "chi-statistic = 0.7298901098901098\n",
      "pvalue = 0.39291881046956134\n"
     ]
    }
   ],
   "source": [
    "d_of_f = 1\n",
    "\n",
    "chi_stat, pvalue = chi_test(data_flat, expected_flat, d_of_f)\n",
    "print(f'chi-statistic = {chi_stat}')\n",
    "print(f'pvalue = {pvalue}')"
   ]
  },
  {
   "cell_type": "code",
   "execution_count": 12,
   "id": "64180b65-849d-4cd2-ab36-665b00f2c8a4",
   "metadata": {},
   "outputs": [
    {
     "name": "stdout",
     "output_type": "stream",
     "text": [
      "chi-statistic = 0.7298901098901098\n",
      "pvalue = 0.39291881046956134\n"
     ]
    }
   ],
   "source": [
    "# same result with SciPy test:\n",
    "# df = k - 1 - ddof\n",
    "# ddof = k - 1 - df\n",
    "d_of_f = 1\n",
    "\n",
    "chi_stat, pvalue = ss.chisquare(data_flat, expected_flat, ddof=(4 - 1 - d_of_f))\n",
    "print(f'chi-statistic = {chi_stat}')\n",
    "print(f'pvalue = {pvalue}')"
   ]
  },
  {
   "cell_type": "code",
   "execution_count": 13,
   "id": "4a8c0ed5-e30f-4808-9c10-b2d04a61747d",
   "metadata": {},
   "outputs": [
    {
     "data": {
      "text/html": [
       "<div>\n",
       "<style scoped>\n",
       "    .dataframe tbody tr th:only-of-type {\n",
       "        vertical-align: middle;\n",
       "    }\n",
       "\n",
       "    .dataframe tbody tr th {\n",
       "        vertical-align: top;\n",
       "    }\n",
       "\n",
       "    .dataframe thead th {\n",
       "        text-align: right;\n",
       "    }\n",
       "</style>\n",
       "<table border=\"1\" class=\"dataframe\">\n",
       "  <thead>\n",
       "    <tr style=\"text-align: right;\">\n",
       "      <th>sex</th>\n",
       "      <th>female</th>\n",
       "      <th>male</th>\n",
       "    </tr>\n",
       "    <tr>\n",
       "      <th>education</th>\n",
       "      <th></th>\n",
       "      <th></th>\n",
       "    </tr>\n",
       "  </thead>\n",
       "  <tbody>\n",
       "    <tr>\n",
       "      <th>biology</th>\n",
       "      <td>9</td>\n",
       "      <td>12</td>\n",
       "    </tr>\n",
       "    <tr>\n",
       "      <th>math</th>\n",
       "      <td>6</td>\n",
       "      <td>14</td>\n",
       "    </tr>\n",
       "  </tbody>\n",
       "</table>\n",
       "</div>"
      ],
      "text/plain": [
       "sex        female  male\n",
       "education              \n",
       "biology         9    12\n",
       "math            6    14"
      ]
     },
     "metadata": {},
     "output_type": "display_data"
    },
    {
     "data": {
      "text/plain": [
       "array([[ 7.68292683, 13.31707317],\n",
       "       [ 7.31707317, 12.68292683]])"
      ]
     },
     "metadata": {},
     "output_type": "display_data"
    },
    {
     "name": "stdout",
     "output_type": "stream",
     "text": [
      "chi-statistic = 0.7298901098901098\n",
      "pvalue = 0.39291881046956134\n"
     ]
    }
   ],
   "source": [
    "# or even simpler version:\n",
    "data = pd.pivot_table(data=df, columns='sex',\n",
    "                      index='education', values='dummy', aggfunc='count')\n",
    "display(data)\n",
    "\n",
    "chi_stat, pvalue, d_of_f, expected = ss.chi2_contingency(data, correction=False)\n",
    "display(expected)\n",
    "print(f'chi-statistic = {chi_stat}')\n",
    "print(f'pvalue = {pvalue}')"
   ]
  },
  {
   "cell_type": "code",
   "execution_count": 14,
   "id": "d89398bd-54ed-4448-82c6-4dce9c21cac3",
   "metadata": {},
   "outputs": [
    {
     "name": "stdout",
     "output_type": "stream",
     "text": [
      "chi-statistic = 0.28090506715506713\n",
      "pvalue = 0.5961086164332364\n"
     ]
    }
   ],
   "source": [
    "# with Yates correction:\n",
    "chi_stat, pvalue, d_of_f, expected = ss.chi2_contingency(data, correction=True)\n",
    "print(f'chi-statistic = {chi_stat}')\n",
    "print(f'pvalue = {pvalue}')"
   ]
  },
  {
   "cell_type": "code",
   "execution_count": null,
   "id": "61a1bdd3-cc38-429d-9504-00d7a035fe18",
   "metadata": {},
   "outputs": [],
   "source": []
  },
  {
   "cell_type": "code",
   "execution_count": null,
   "id": "e137d0fa-fab7-4417-80da-d92d27b8d3db",
   "metadata": {},
   "outputs": [],
   "source": []
  },
  {
   "cell_type": "markdown",
   "id": "00c5360e-9dea-4d42-bb69-53586be205d5",
   "metadata": {},
   "source": [
    "### Fisher's exact, Treatment 1 VS Treatment 2"
   ]
  },
  {
   "cell_type": "code",
   "execution_count": 15,
   "id": "a963565a-6854-4723-9f98-ac4c4581538a",
   "metadata": {},
   "outputs": [
    {
     "data": {
      "text/html": [
       "<div>\n",
       "<style scoped>\n",
       "    .dataframe tbody tr th:only-of-type {\n",
       "        vertical-align: middle;\n",
       "    }\n",
       "\n",
       "    .dataframe tbody tr th {\n",
       "        vertical-align: top;\n",
       "    }\n",
       "\n",
       "    .dataframe thead th {\n",
       "        text-align: right;\n",
       "    }\n",
       "</style>\n",
       "<table border=\"1\" class=\"dataframe\">\n",
       "  <thead>\n",
       "    <tr style=\"text-align: right;\">\n",
       "      <th></th>\n",
       "      <th>Healthy</th>\n",
       "      <th>Not healthy</th>\n",
       "      <th>Total</th>\n",
       "    </tr>\n",
       "  </thead>\n",
       "  <tbody>\n",
       "    <tr>\n",
       "      <th>Treatment1</th>\n",
       "      <td>a</td>\n",
       "      <td>b</td>\n",
       "      <td>a + b</td>\n",
       "    </tr>\n",
       "    <tr>\n",
       "      <th>Treatment2</th>\n",
       "      <td>c</td>\n",
       "      <td>d</td>\n",
       "      <td>c + d</td>\n",
       "    </tr>\n",
       "    <tr>\n",
       "      <th>Total</th>\n",
       "      <td>a + c</td>\n",
       "      <td>b + d</td>\n",
       "      <td>n</td>\n",
       "    </tr>\n",
       "  </tbody>\n",
       "</table>\n",
       "</div>"
      ],
      "text/plain": [
       "           Healthy Not healthy  Total\n",
       "Treatment1       a           b  a + b\n",
       "Treatment2       c           d  c + d\n",
       "Total        a + c       b + d      n"
      ]
     },
     "execution_count": 15,
     "metadata": {},
     "output_type": "execute_result"
    }
   ],
   "source": [
    "data = pd.DataFrame()\n",
    "data.loc['Treatment1', 'Healthy'] = 'a'\n",
    "data.loc['Treatment1', 'Not healthy'] = 'b'\n",
    "data.loc['Treatment1', 'Total'] = 'a + b'\n",
    "\n",
    "data.loc['Treatment2', 'Healthy'] = 'c'\n",
    "data.loc['Treatment2', 'Not healthy'] = 'd'\n",
    "data.loc['Treatment2', 'Total'] = 'c + d'\n",
    "\n",
    "data.loc['Total', 'Healthy'] = 'a + c'\n",
    "data.loc['Total', 'Not healthy'] = 'b + d'\n",
    "data.loc['Total', 'Total'] = 'n'\n",
    "data"
   ]
  },
  {
   "cell_type": "markdown",
   "id": "61f0103c-1f09-4ca0-8f2b-f7a3c3131d92",
   "metadata": {},
   "source": [
    "Fisher's exact method tries to answer the question: What is the probability of getting this or a bigger difference, if **the probability of getting 'a' healthy with total 'a + b' people with 'Treatment1'** is the same as **the probability of getting 'c' healthy with total 'c + d' people with 'Trearment2'**?\n",
    "\n",
    "In other words, we need to calculate the probability of getting **such table or even more different** if the probability to heal with treatment 1 is equal to the probability to heal with treatment 2.\n",
    "\n",
    "$H0: P(a | a + b ) = P(c | c + d) = P$  \n",
    "$H1: P(a | a + b ) \\neq P(c | c + d)$\n",
    "\n",
    "If 'a' and 'c' - numbers of healthy people, than:\n",
    "\n",
    "$pvalue = \\sum_{i}^{}\\frac{C_{a+b}^a*C_{c+d}^c}{C_n^{a+c}}$\n",
    "\n",
    "for all $[1...i]$ contingency tables that are same or more different with the given one\n",
    "\n",
    "The formula can be derived using conditional probability rules or using classical probability interpretation"
   ]
  },
  {
   "cell_type": "code",
   "execution_count": 16,
   "id": "f431138a-26c0-4d9a-b3e9-76ebf7e86b56",
   "metadata": {},
   "outputs": [
    {
     "data": {
      "text/html": [
       "<div>\n",
       "<style scoped>\n",
       "    .dataframe tbody tr th:only-of-type {\n",
       "        vertical-align: middle;\n",
       "    }\n",
       "\n",
       "    .dataframe tbody tr th {\n",
       "        vertical-align: top;\n",
       "    }\n",
       "\n",
       "    .dataframe thead th {\n",
       "        text-align: right;\n",
       "    }\n",
       "</style>\n",
       "<table border=\"1\" class=\"dataframe\">\n",
       "  <thead>\n",
       "    <tr style=\"text-align: right;\">\n",
       "      <th></th>\n",
       "      <th>Healthy</th>\n",
       "      <th>Not healthy</th>\n",
       "      <th>total</th>\n",
       "    </tr>\n",
       "  </thead>\n",
       "  <tbody>\n",
       "    <tr>\n",
       "      <th>Treatment1</th>\n",
       "      <td>3.0</td>\n",
       "      <td>1.0</td>\n",
       "      <td>4.0</td>\n",
       "    </tr>\n",
       "    <tr>\n",
       "      <th>Treatment2</th>\n",
       "      <td>1.0</td>\n",
       "      <td>3.0</td>\n",
       "      <td>4.0</td>\n",
       "    </tr>\n",
       "    <tr>\n",
       "      <th>total</th>\n",
       "      <td>4.0</td>\n",
       "      <td>4.0</td>\n",
       "      <td>8.0</td>\n",
       "    </tr>\n",
       "  </tbody>\n",
       "</table>\n",
       "</div>"
      ],
      "text/plain": [
       "            Healthy  Not healthy  total\n",
       "Treatment1      3.0          1.0    4.0\n",
       "Treatment2      1.0          3.0    4.0\n",
       "total           4.0          4.0    8.0"
      ]
     },
     "execution_count": 16,
     "metadata": {},
     "output_type": "execute_result"
    }
   ],
   "source": [
    "data = pd.DataFrame()\n",
    "data.loc['Treatment1', 'Healthy'] = 3\n",
    "data.loc['Treatment2', 'Healthy'] = 1\n",
    "data.loc['Treatment1', 'Not healthy'] = 1\n",
    "data.loc['Treatment2', 'Not healthy'] = 3\n",
    "\n",
    "data.loc[:,'total'] = data.sum(axis=1)\n",
    "data.loc['total',:] = data.sum()\n",
    "data"
   ]
  },
  {
   "cell_type": "code",
   "execution_count": 17,
   "id": "15d60e9b-dfbb-4afd-8517-d029fe85e85d",
   "metadata": {},
   "outputs": [
    {
     "name": "stdout",
     "output_type": "stream",
     "text": [
      "statistic = 9.0\n",
      "pvalue = 0.48571428571428565\n"
     ]
    }
   ],
   "source": [
    "stat, pvalue = ss.fisher_exact(data.values[:-1, :-1])\n",
    "print(f'statistic = {stat}')\n",
    "print(f'pvalue = {pvalue}')"
   ]
  },
  {
   "cell_type": "code",
   "execution_count": null,
   "id": "c1a72c80-d120-4309-9a11-7c6d01ffb9dd",
   "metadata": {},
   "outputs": [],
   "source": []
  }
 ],
 "metadata": {
  "kernelspec": {
   "display_name": "Python 3 (ipykernel)",
   "language": "python",
   "name": "python3"
  },
  "language_info": {
   "codemirror_mode": {
    "name": "ipython",
    "version": 3
   },
   "file_extension": ".py",
   "mimetype": "text/x-python",
   "name": "python",
   "nbconvert_exporter": "python",
   "pygments_lexer": "ipython3",
   "version": "3.11.5"
  },
  "widgets": {
   "application/vnd.jupyter.widget-state+json": {
    "state": {},
    "version_major": 2,
    "version_minor": 0
   }
  }
 },
 "nbformat": 4,
 "nbformat_minor": 5
}
